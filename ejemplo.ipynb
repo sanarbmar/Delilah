{
  "nbformat": 4,
  "nbformat_minor": 0,
  "metadata": {
    "colab": {
      "provenance": [],
      "collapsed_sections": [],
      "authorship_tag": "ABX9TyN1a/h+q6BTpcI5LDQKFgxG",
      "include_colab_link": true
    },
    "kernelspec": {
      "name": "python3",
      "display_name": "Python 3"
    },
    "language_info": {
      "name": "python"
    }
  },
  "cells": [
    {
      "cell_type": "markdown",
      "metadata": {
        "id": "view-in-github",
        "colab_type": "text"
      },
      "source": [
        "<a href=\"https://colab.research.google.com/github/sanarbmar/Delilah/blob/main/ejemplo.ipynb\" target=\"_parent\"><img src=\"https://colab.research.google.com/assets/colab-badge.svg\" alt=\"Open In Colab\"/></a>"
      ]
    },
    {
      "cell_type": "code",
      "execution_count": null,
      "metadata": {
        "colab": {
          "base_uri": "https://localhost:8080/"
        },
        "id": "wDU6stu9qG1I",
        "outputId": "14ab0791-074c-4f0d-9502-50d7f110a463"
      },
      "outputs": [
        {
          "output_type": "stream",
          "name": "stdout",
          "text": [
            "escriba su lado : 2\n",
            "4\n"
          ]
        }
      ],
      "source": [
        "#do the charge of square side, show in the screen the perimeter oh this.\n",
        "#(the permieter of)\n",
        "#Realizar la carga del lado de un cuadrado, mostrar por pantalla el perímetro del mismo \n",
        "#(El perímetro de un cuadrado se calcula multiplicando el valor del lado por cuatro)\n",
        "lado=int(input('escriba su lado : '));\n",
        "perimetro = lado**2;\n",
        "print(perimetro)"
      ]
    },
    {
      "cell_type": "code",
      "source": [
        "from IPython.utils.text import num_ini_spaces\n",
        "'''\n",
        "Realizar un programa que solicite la carga por teclado de dos números, si el primero es mayor al segundo informar su suma y diferencia,\n",
        "en caso contrario informar el producto y la división del primero respecto al segundo.\n",
        "'''\n",
        "numero1=int(input('scriban1 : '))\n",
        "numero2=int(input('scriban2 : '))\n",
        "if(numero1 > numero2):\n",
        "  diferencia=numero1-numero2\n",
        "  print(diferencia)\n",
        "else:\n",
        "  producto= numero1*numero2\n",
        "  division= numero1/numero2\n",
        "  print(producto)\n",
        "  print(division)\n"
      ],
      "metadata": {
        "id": "Tp5BOOosqXF5",
        "colab": {
          "base_uri": "https://localhost:8080/"
        },
        "outputId": "ae53b29e-a2ea-4977-d6b0-838ae84bcb39"
      },
      "execution_count": null,
      "outputs": [
        {
          "output_type": "stream",
          "name": "stdout",
          "text": [
            "scriban1 : 6\n",
            "scriban2 : 4\n",
            "2\n"
          ]
        }
      ]
    },
    {
      "cell_type": "code",
      "source": [
        "'''\n",
        "Se ingresan tres notas de un alumno, si el promedio es mayor o igual a siete mostrar un mensaje \"Promocionado\"\n",
        "'''\n",
        "n1=int(input('ingrse numero :'))\n",
        "n2=int(input('ingrse numero :'))\n",
        "n3=int(input('ingrse numero :'))\n",
        "promedio= (n1+n2+n3)/3\n",
        "print(promedio)"
      ],
      "metadata": {
        "colab": {
          "base_uri": "https://localhost:8080/"
        },
        "id": "9QxNiruPY-WV",
        "outputId": "a5c8f0de-aed3-4f6b-9aad-9214d3357d1f"
      },
      "execution_count": null,
      "outputs": [
        {
          "output_type": "stream",
          "name": "stdout",
          "text": [
            "ingrse numero :2\n",
            "ingrse numero :8\n",
            "ingrse numero :8\n",
            "2\n"
          ]
        }
      ]
    },
    {
      "cell_type": "code",
      "source": [
        "'''\n",
        "Se ingresa por teclado un número positivo de uno o dos dígitos (1..99) mostrar un mensaje indicando si el número tiene uno o dos dígitos.\n",
        "(Tener en cuenta que condición debe cumplirse para tener dos dígitos un número entero)\n",
        "'''\n",
        "n1=int(input('ingrse numero :'))\n",
        "if(n1<10):\n",
        "  print('es de 1 digito')\n",
        "else:\n",
        "  print('es de 2 digitos')"
      ],
      "metadata": {
        "colab": {
          "base_uri": "https://localhost:8080/"
        },
        "id": "9ttOMBwffZyr",
        "outputId": "cae070a3-c3d5-41d1-cd3f-e7de8af608b3"
      },
      "execution_count": null,
      "outputs": [
        {
          "output_type": "stream",
          "name": "stdout",
          "text": [
            "ingrse numero :10\n",
            "es de 2 digitos\n"
          ]
        }
      ]
    },
    {
      "cell_type": "code",
      "source": [
        "#Se cargan por teclado tres números distintos. Mostrar por pantalla el mayor de ellos.\n",
        "n1=int(input('ingrse numero :'))\n",
        "n2=int(input('ingrse numero :'))\n",
        "n3=int(input('ingrse numero :'))\n",
        "\n",
        "if(n1>n2 and n1>n3):\n",
        "  print(n1)\n",
        "else:\n",
        "  if(n2>n1 and n2>n3):\n",
        "    print(n2)\n",
        "  else:\n",
        "    print(n3)"
      ],
      "metadata": {
        "colab": {
          "base_uri": "https://localhost:8080/"
        },
        "id": "GzJnIa07lBr2",
        "outputId": "a6689375-658c-4690-ee99-7b6256a51c72"
      },
      "execution_count": null,
      "outputs": [
        {
          "output_type": "stream",
          "name": "stdout",
          "text": [
            "ingrse numero :23\n",
            "ingrse numero :1234\n",
            "ingrse numero :34\n",
            "1234\n"
          ]
        }
      ]
    },
    {
      "cell_type": "code",
      "source": [
        "#Se ingresa por teclado un valor entero, mostrar una leyenda que indique si el número es positivo, negativo o nulo (es decir cero)\n",
        "valor=int(input('ingrse valor :'))\n",
        "if(valor == 0 ):\n",
        "  print('nulo')\n",
        "else:\n",
        "  if(valor < 0):\n",
        "    print('negativo')\n",
        "  else:\n",
        "    print('positivo')"
      ],
      "metadata": {
        "colab": {
          "base_uri": "https://localhost:8080/"
        },
        "id": "87D8yYh0dHWW",
        "outputId": "419c5169-c175-4b3e-a3c3-f17c87d955bb"
      },
      "execution_count": null,
      "outputs": [
        {
          "output_type": "stream",
          "name": "stdout",
          "text": [
            "ingrse valor :0\n",
            "nulo\n"
          ]
        }
      ]
    },
    {
      "cell_type": "code",
      "source": [
        "'''\n",
        "Confeccionar un programa que permita cargar un número entero positivo de hasta tres cifras y muestre un mensaje indicando si tiene\n",
        "1, 2, o 3 cifras. Mostrar un mensaje de error si el número de cifras es mayor.\n",
        "'''\n",
        "valor=int(input('ingrse valor :'))\n",
        "if(valor < 10):\n",
        "  print('una cifra')\n",
        "else:\n",
        "  if(valor >= 10 and valor < 100):\n",
        "    print('dos cifras')\n",
        "  else:\n",
        "    if(valor >= 1000):\n",
        "      print('Error tiene mas de 3 cifras')\n",
        "    else:\n",
        "      print('tres cifras')"
      ],
      "metadata": {
        "colab": {
          "base_uri": "https://localhost:8080/"
        },
        "id": "geJO_FDheLuV",
        "outputId": "d11d7844-59ff-4ce4-a319-758f174bdba8"
      },
      "execution_count": null,
      "outputs": [
        {
          "output_type": "stream",
          "name": "stdout",
          "text": [
            "ingrse valor :1000\n",
            "Error tiene mas de 3 cifras\n"
          ]
        }
      ]
    },
    {
      "cell_type": "code",
      "source": [
        "'''\n",
        "Un postulante a un empleo, realiza un test de capacitación, se obtuvo la siguiente información: cantidad total de preguntas que se le realizaron y \n",
        "la cantidad de preguntas que contestó correctamente. Se pide confeccionar un programa que ingrese los dos datos por teclado e informe el nivel del mismo \n",
        "según el porcentaje de respuestas correctas que ha obtenido, y sabiendo que:\n",
        "'''\n",
        "cpreguntas=int(input('escriba la cantidad de preguntas : '))\n",
        "pcorrectas=int(input('escriba cuantas saco buenas '))\n",
        "\n",
        "porcentaje= (pcorrectas*100)/cpreguntas\n",
        "\n",
        "if(porcentaje < 50):\n",
        "    print('fuera de nivel')\n",
        "else:\n",
        "    if(porcentaje >=50 and porcentaje < 75):\n",
        "       print('regular')\n",
        "    else:\n",
        "        if(porcentaje >= 75 and porcentaje < 90):\n",
        "           print('medio')\n",
        "        else:\n",
        "           print('superior')"
      ],
      "metadata": {
        "colab": {
          "base_uri": "https://localhost:8080/"
        },
        "id": "YcAhtEvkf8f8",
        "outputId": "4394c1e3-8f39-4f9c-a3e5-adb964a096b4"
      },
      "execution_count": null,
      "outputs": [
        {
          "output_type": "stream",
          "name": "stdout",
          "text": [
            "escriba la cantidad de preguntas : 20\n",
            "escriba cuantas saco buenas 14\n",
            "regular\n"
          ]
        }
      ]
    },
    {
      "cell_type": "code",
      "source": [
        "'''\n",
        "Make a program that ask a wheatever date , next veryfy if that date is christmas\n",
        "'''\n",
        "dd=int(input('dia:'))\n",
        "mm=int(input('mes:'))\n",
        "aa=int(input('año:'))\n",
        "\n",
        "if(mm==12 and dd==24):\n",
        "  print('congratulations its christmas')\n",
        "else:\n",
        "  print('im sorry bro christmas is in a few months')"
      ],
      "metadata": {
        "colab": {
          "base_uri": "https://localhost:8080/"
        },
        "id": "28l_SkNukMAM",
        "outputId": "0990766f-9e37-468b-f3f8-621a2ddefb02"
      },
      "execution_count": null,
      "outputs": [
        {
          "output_type": "stream",
          "name": "stdout",
          "text": [
            "dia:22\n",
            "mes:12\n",
            "año:2023\n",
            "im sorry bro christmas is in a few months\n"
          ]
        }
      ]
    },
    {
      "cell_type": "code",
      "source": [
        "'''\n",
        "Se ingresan por teclado tres números, si todos los valores ingresados son menores a 10, \n",
        "imprimir en pantalla la leyenda \"Todos los números son menores a diez\".\n",
        "'''\n",
        "n1=int(input('ingrse numero :'))\n",
        "n2=int(input('ingrse numero :'))\n",
        "n3=int(input('ingrse numero :'))\n",
        "\n",
        "if(n1 < 10 and n2 < 10 and n3 < 10 ):\n",
        "  print('todos son menores a 10')\n",
        "else:\n",
        "  print('no 4todos son menores a 10')"
      ],
      "metadata": {
        "colab": {
          "base_uri": "https://localhost:8080/"
        },
        "id": "ijh39zDI3u1R",
        "outputId": "2d27d749-70fc-46e8-bd29-d099a33eee8a"
      },
      "execution_count": null,
      "outputs": [
        {
          "output_type": "stream",
          "name": "stdout",
          "text": [
            "ingrse numero :1\n",
            "ingrse numero :3\n",
            "ingrse numero :4\n",
            "todos son menores a 10\n"
          ]
        }
      ]
    },
    {
      "cell_type": "code",
      "source": [],
      "metadata": {
        "id": "fxEox6AS5FTF"
      },
      "execution_count": null,
      "outputs": []
    },
    {
      "cell_type": "code",
      "source": [
        "'''\n",
        "Se ingresan por teclado tres números, si al menos uno de los valores ingresados es menor a 10, imprimir\n",
        " en pantalla la leyenda \"Alguno de los números es menor a diez\".\n",
        "'''\n",
        "\n",
        "n1=int(input('ingrse numero :'))\n",
        "n2=int(input('ingrse numero :'))\n",
        "n3=int(input('ingrse numero :'))\n",
        "\n",
        "if(n1 < 10 or n2 < 10 or n3 < 10 ):\n",
        "  print('Alguno de los números es menor a diez')\n",
        "4k"
      ],
      "metadata": {
        "id": "ECn-gcNb5NEm"
      },
      "execution_count": null,
      "outputs": []
    },
    {
      "cell_type": "code",
      "source": [
        "'''\n",
        "Se ingresan tres valores por teclado, si todos son iguales se imprime la suma del primero \n",
        "con el segundo y a este resultado se lo multiplica por el tercero.\n",
        "'''\n",
        "n1=int(input('ingrse numero :'))\n",
        "n2=int(input('ingrse numero :'))\n",
        "n3=int(input('ingrse numero :'))\n",
        "\n",
        "if(n1==n2 and n2==n3):\n",
        "  suma= (n1+n2)*n3\n",
        "  print(suma)\n",
        "else:\n",
        "  print('no son iguales')"
      ],
      "metadata": {
        "colab": {
          "base_uri": "https://localhost:8080/"
        },
        "id": "f599CcDvceFY",
        "outputId": "bbcb0452-bd89-441c-9498-9b6179dac09a"
      },
      "execution_count": null,
      "outputs": [
        {
          "output_type": "stream",
          "name": "stdout",
          "text": [
            "ingrse numero :5\n",
            "ingrse numero :5\n",
            "ingrse numero :5\n",
            "50\n"
          ]
        }
      ]
    },
    {
      "cell_type": "code",
      "source": [],
      "metadata": {
        "id": "668vDaKRdQGV"
      },
      "execution_count": null,
      "outputs": []
    },
    {
      "cell_type": "code",
      "source": [
        "'''\n",
        "Escribir un programa que pida ingresar la coordenada de un punto en el plano, es decir dos valores enteros x e y (distintos a cero).\n",
        "Posteriormente imprimir en pantalla en que cuadrante se ubica dicho punto. (1º Cuadrante si x > 0 Y y > 0 , 2º Cuadrante: x < 0 Y y > 0, etc.)\n",
        "'''\n",
        "x=int(input('ingrse numero :'))\n",
        "y=int(input('ingrse numero :'))\n",
        "if(x>0 and y>0):\n",
        "  print('c1')\n",
        "else:\n",
        "  if(x<0 and y >0):\n",
        "      print('c2')\n",
        "  else:\n",
        "    if(x<0 and y<0):\n",
        "       print('c3')\n",
        "    else:\n",
        "       print('c4')"
      ],
      "metadata": {
        "colab": {
          "base_uri": "https://localhost:8080/"
        },
        "id": "PvwjFaLQdddI",
        "outputId": "28bfb38e-a3bf-48bd-e372-f36eec047c1a"
      },
      "execution_count": null,
      "outputs": [
        {
          "output_type": "stream",
          "name": "stdout",
          "text": [
            "ingrse numero :8\n",
            "ingrse numero :-6\n",
            "c4\n"
          ]
        }
      ]
    },
    {
      "cell_type": "code",
      "source": [
        "'''\n",
        "De un operario se conoce su sueldo y los años de antigüedad. Se pide confeccionar un programa que lea los datos de entrada e informe:\n",
        "a) Si el sueldo es inferior a 500 y su antigüedad es igual o superior a 10 años, otorgarle un aumento del 20 %, mostrar el sueldo a pagar.\n",
        "b)Si el sueldo es inferior a 500 pero su antigüedad es menor a 10 años, otorgarle un aumento de 5 %.\n",
        "c) Si el sueldo es mayor o igual a 500 mostrar el sueldo en pantalla sin cambios.\n",
        "'''\n",
        "sueldo=int(input('ingrse sueldo :'))\n",
        "aantiguedad=int(input('ingrse antiguedad :'))\n",
        "if(sueldo < 500 and aantiguedad >= 10):\n",
        "  aumento=(sueldo*20)/100\n",
        "  sueldoFinal= sueldo+aumento\n",
        "  print(sueldoFinal)\n",
        "else:\n",
        "  if(sueldo < 500 and aantiguedad<10):\n",
        "      aumento=(sueldo*5)/100\n",
        "      sueldoFinal= sueldo+aumento\n",
        "      print(sueldoFinal)\n",
        "  else:\n",
        "    if(sueldo >= 500):\n",
        "      print(sueldo)"
      ],
      "metadata": {
        "colab": {
          "base_uri": "https://localhost:8080/"
        },
        "id": "-M4HEB-_lJ2u",
        "outputId": "d39e32ca-3b29-4b45-a41d-5492f5921ba3"
      },
      "execution_count": null,
      "outputs": [
        {
          "output_type": "stream",
          "name": "stdout",
          "text": [
            "ingrse sueldo :900\n",
            "ingrse antiguedad :12\n",
            "900\n"
          ]
        }
      ]
    },
    {
      "cell_type": "code",
      "source": [
        "'''\n",
        "Escribir un programa en el cual: dada una lista de tres valores numéricos distintos\n",
        " se calcule e informe su rango de variación (debe mostrar el mayor y el menor de ellos)\n",
        "'''\n",
        "\n",
        "num1=int(input(\"Ingrese primer valor:\"))\n",
        "num2=int(input(\"Ingrese tercer valor:\"))\n",
        "num3=int(input(\"Rango de valores:\"))\n",
        "if num1<num2 and num1<num3:\n",
        "    print(num1)\n",
        "else:\n",
        "    if num2<num3:\n",
        "        print(num2)\n",
        "    else:\n",
        "        print(num3)\n",
        "if num1>num2 and num1>num3:\n",
        "    print(num1)\n",
        "else:\n",
        "    if num2>num3:\n",
        "        print(num2)\n",
        "    else:\n",
        "        print(num3)\n"
      ],
      "metadata": {
        "colab": {
          "base_uri": "https://localhost:8080/"
        },
        "id": "UrrOv8YisKte",
        "outputId": "4c005b4b-7503-403b-bb32-26b2a381304b"
      },
      "execution_count": null,
      "outputs": [
        {
          "output_type": "stream",
          "name": "stdout",
          "text": [
            "ingrse numero :3\n",
            "ingrse numero :2\n",
            "ingrse numero :1\n",
            "error\n"
          ]
        }
      ]
    }
  ]
}